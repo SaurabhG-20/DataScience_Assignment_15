{
 "cells": [
  {
   "cell_type": "markdown",
   "metadata": {},
   "source": [
    "# AcadGild_DataScience_Assignment_15"
   ]
  },
  {
   "cell_type": "markdown",
   "metadata": {},
   "source": [
    "<b >Problem 1 .</b> You survey households in your area to find the average rent they are paying. Find the\n",
    "standard deviation from the following data:\n",
    "$1550, $1700, $900, $850, $1000, $950."
   ]
  },
  {
   "cell_type": "code",
   "execution_count": 4,
   "metadata": {},
   "outputs": [
    {
     "name": "stdout",
     "output_type": "stream",
     "text": [
      "Standard deviation for House Hold Rent is :\n"
     ]
    },
    {
     "data": {
      "text/plain": [
       "367.99"
      ]
     },
     "execution_count": 4,
     "metadata": {},
     "output_type": "execute_result"
    }
   ],
   "source": [
    "#Solution \n",
    "\n",
    "# import Statistics module\n",
    "import statistics as stat \n",
    "\n",
    "# input Data\n",
    "rent_list =[1550, 1700, 900, 850, 1000, 950]\n",
    "\n",
    "rent_stdev= stat.stdev(rent_list) # call stdev function from statistics module\n",
    "\n",
    "print(\"Standard deviation for House Hold Rent is :\")\n",
    "round(rent_stdev,2) # print values till 2 points after decimal"
   ]
  },
  {
   "cell_type": "markdown",
   "metadata": {},
   "source": [
    "-------------------------------------------------------------------------------------------------------------------------------"
   ]
  },
  {
   "cell_type": "markdown",
   "metadata": {},
   "source": [
    "<b> Problem 2. </b> Find the variance for the following set of data representing trees in California (heights in\n",
    "feet): 3, 21, 98, 203, 17, 9"
   ]
  },
  {
   "cell_type": "code",
   "execution_count": 6,
   "metadata": {},
   "outputs": [
    {
     "name": "stdout",
     "output_type": "stream",
     "text": [
      "Variance  for trees in California is :\n"
     ]
    },
    {
     "data": {
      "text/plain": [
       "6219.9"
      ]
     },
     "execution_count": 6,
     "metadata": {},
     "output_type": "execute_result"
    }
   ],
   "source": [
    "#Solution \n",
    "\n",
    "# import Statistics module\n",
    "import statistics as stat \n",
    "\n",
    "# input Data\n",
    "trees_list =[3, 21, 98, 203, 17, 9]\n",
    "\n",
    "trees_varinace= stat.variance(trees_list) # call variance function from statistics module\n",
    "\n",
    "print(\"Variance  for trees in California is :\")\n",
    "round(trees_varinace,2) # print values till 2 points after decimal"
   ]
  },
  {
   "cell_type": "markdown",
   "metadata": {},
   "source": [
    "------------------------------------------------------------------------------------------------------------------------"
   ]
  },
  {
   "cell_type": "markdown",
   "metadata": {},
   "source": [
    "<b> Problem 3. </b> In a class on 100 students, 80 students passed in all subjects, 10 failed in one subject, 7\n",
    "failed in two subjects and 3 failed in three subjects. Find the probability distribution of\n",
    "the variable for number of subjects a student from the given class has failed in."
   ]
  },
  {
   "cell_type": "code",
   "execution_count": 14,
   "metadata": {},
   "outputs": [
    {
     "name": "stdout",
     "output_type": "stream",
     "text": [
      "Probability distribution is :\n"
     ]
    }
   ],
   "source": [
    "# Solution :\n",
    "\n",
    "Total No. Of Students in Class : 100\n",
    "    \n",
    "#1.\n",
    "Students passed in all subjects :80\n",
    "    \n",
    "Probability of failing in 0 subjects P(X=0) : 80/100 =0.8\n",
    "\n",
    "#2.\n",
    "Students failed in at least 1 subject : 10\n",
    "\n",
    "Probability of failing in 1 subjects P(X=1) : 10/100 =0.1\n",
    "    \n",
    "#3.\n",
    "Students failed in at least 2 subject : 7\n",
    "    \n",
    "Probability of failing in 2 subjects P(X=2) : 7/100 =0.07\n",
    "    \n",
    "#4.\n",
    "Students failed in at least 3 subject : 3\n",
    "    \n",
    "Probability of failing in 3 subjects P(X=3) : 3/100 =0.03\n",
    "    \n",
    "print(\"Probability distribution is :\")"
   ]
  },
  {
   "cell_type": "markdown",
   "metadata": {},
   "source": [
    "<table border=\"2\" class=\"docutils\" style=\"margin-left:50px\">\n",
    "<tbody valign=\"top\">\n",
    "<tr class=\"row-odd\"><td>X</td>\n",
    "<td>0</td>\n",
    "<td>1</td>\n",
    "<td>2</td>\n",
    "<td>3</td>\n",
    "</tr>\n",
    "<tr class=\"row-even\"><td>P(X)</td>\n",
    "<td>0.8</td>\n",
    "<td>0.1</td>\n",
    "<td>0.07</td>\n",
    "<td>0.03</td>\n",
    "</tr>\n",
    "</tbody>\n",
    "</table>"
   ]
  },
  {
   "cell_type": "code",
   "execution_count": null,
   "metadata": {
    "collapsed": true
   },
   "outputs": [],
   "source": []
  }
 ],
 "metadata": {
  "kernelspec": {
   "display_name": "Python 3",
   "language": "python",
   "name": "python3"
  },
  "language_info": {
   "codemirror_mode": {
    "name": "ipython",
    "version": 3
   },
   "file_extension": ".py",
   "mimetype": "text/x-python",
   "name": "python",
   "nbconvert_exporter": "python",
   "pygments_lexer": "ipython3",
   "version": "3.6.2"
  }
 },
 "nbformat": 4,
 "nbformat_minor": 2
}
